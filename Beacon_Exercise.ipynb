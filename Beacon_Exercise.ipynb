{
  "nbformat": 4,
  "nbformat_minor": 0,
  "metadata": {
    "colab": {
      "name": "Beacon Exercise.ipynb",
      "provenance": [],
      "collapsed_sections": []
    },
    "kernelspec": {
      "name": "python3",
      "display_name": "Python 3"
    },
    "accelerator": "GPU"
  },
  "cells": [
    {
      "cell_type": "markdown",
      "metadata": {
        "id": "htNlX8ihtup0",
        "colab_type": "text"
      },
      "source": [
        "##BEACON EXERCISE"
      ]
    },
    {
      "cell_type": "code",
      "metadata": {
        "id": "4KT-jU-st4JJ",
        "colab_type": "code",
        "colab": {}
      },
      "source": [
        "# Import statements\n",
        "\n",
        "import numpy as np\n",
        "import pandas as pd\n",
        "import matplotlib.pyplot as plt\n",
        "import matplotlib\n"
      ],
      "execution_count": 0,
      "outputs": []
    },
    {
      "cell_type": "code",
      "metadata": {
        "id": "h-Nby-YPudv6",
        "colab_type": "code",
        "outputId": "06281d0b-3152-459c-f0be-eaf02f0513a8",
        "colab": {
          "base_uri": "https://localhost:8080/",
          "height": 235
        }
      },
      "source": [
        "# Import dataset\n",
        "\n",
        "df = pd.read_csv('https://github.com/JJJV/Oxford/blob/master/beacon_data_raw.csv?raw=true', sep=';', engine='python',index_col=0)\n",
        "df.head(5)\n"
      ],
      "execution_count": 2,
      "outputs": [
        {
          "output_type": "execute_result",
          "data": {
            "text/html": [
              "<div>\n",
              "<style scoped>\n",
              "    .dataframe tbody tr th:only-of-type {\n",
              "        vertical-align: middle;\n",
              "    }\n",
              "\n",
              "    .dataframe tbody tr th {\n",
              "        vertical-align: top;\n",
              "    }\n",
              "\n",
              "    .dataframe thead th {\n",
              "        text-align: right;\n",
              "    }\n",
              "</style>\n",
              "<table border=\"1\" class=\"dataframe\">\n",
              "  <thead>\n",
              "    <tr style=\"text-align: right;\">\n",
              "      <th></th>\n",
              "      <th>gtid</th>\n",
              "      <th>vendor_id</th>\n",
              "      <th>subscriber_id</th>\n",
              "      <th>merchant_id</th>\n",
              "      <th>signal_type</th>\n",
              "      <th>entry_date</th>\n",
              "      <th>exit_date</th>\n",
              "      <th>latitude</th>\n",
              "      <th>longitude</th>\n",
              "      <th>dongle_id</th>\n",
              "      <th>distance</th>\n",
              "      <th>proximity</th>\n",
              "      <th>rssi</th>\n",
              "    </tr>\n",
              "    <tr>\n",
              "      <th>id</th>\n",
              "      <th></th>\n",
              "      <th></th>\n",
              "      <th></th>\n",
              "      <th></th>\n",
              "      <th></th>\n",
              "      <th></th>\n",
              "      <th></th>\n",
              "      <th></th>\n",
              "      <th></th>\n",
              "      <th></th>\n",
              "      <th></th>\n",
              "      <th></th>\n",
              "      <th></th>\n",
              "    </tr>\n",
              "  </thead>\n",
              "  <tbody>\n",
              "    <tr>\n",
              "      <th>2339839562</th>\n",
              "      <td>F9341167-6D6C-4321-924F-2E6B9D9CEF7A</td>\n",
              "      <td>135</td>\n",
              "      <td>29253903</td>\n",
              "      <td>2133</td>\n",
              "      <td>2</td>\n",
              "      <td>2017-05-01 09:54:14.000000</td>\n",
              "      <td>NaN</td>\n",
              "      <td>40.992124</td>\n",
              "      <td>29.126770</td>\n",
              "      <td>5536</td>\n",
              "      <td>-100.000000</td>\n",
              "      <td>unknown</td>\n",
              "      <td>0.0</td>\n",
              "    </tr>\n",
              "    <tr>\n",
              "      <th>2340151194</th>\n",
              "      <td>EB93B8DF-1F8D-4BD6-A4E5-67B9BACBF6CF</td>\n",
              "      <td>135</td>\n",
              "      <td>17090954</td>\n",
              "      <td>2133</td>\n",
              "      <td>2</td>\n",
              "      <td>2017-05-01 10:28:45.000000</td>\n",
              "      <td>NaN</td>\n",
              "      <td>40.992183</td>\n",
              "      <td>29.126761</td>\n",
              "      <td>5536</td>\n",
              "      <td>1668.100537</td>\n",
              "      <td>far</td>\n",
              "      <td>-86.0</td>\n",
              "    </tr>\n",
              "    <tr>\n",
              "      <th>2340151210</th>\n",
              "      <td>5563AB7A-C5B0-492D-80E5-04E52A5C0C28</td>\n",
              "      <td>135</td>\n",
              "      <td>17090954</td>\n",
              "      <td>2133</td>\n",
              "      <td>2</td>\n",
              "      <td>2017-05-01 10:28:45.000000</td>\n",
              "      <td>NaN</td>\n",
              "      <td>40.992183</td>\n",
              "      <td>29.126761</td>\n",
              "      <td>5536</td>\n",
              "      <td>1668.100537</td>\n",
              "      <td>far</td>\n",
              "      <td>-86.0</td>\n",
              "    </tr>\n",
              "    <tr>\n",
              "      <th>2340151187</th>\n",
              "      <td>55AFD11A-06A3-4E9D-8735-445F3DE654D7</td>\n",
              "      <td>178</td>\n",
              "      <td>15630196</td>\n",
              "      <td>2133</td>\n",
              "      <td>2</td>\n",
              "      <td>2017-05-01 10:28:45.000000</td>\n",
              "      <td>NaN</td>\n",
              "      <td>40.992183</td>\n",
              "      <td>29.126761</td>\n",
              "      <td>5536</td>\n",
              "      <td>1668.100537</td>\n",
              "      <td>far</td>\n",
              "      <td>-86.0</td>\n",
              "    </tr>\n",
              "    <tr>\n",
              "      <th>2340185826</th>\n",
              "      <td>52DE3BD3-655B-40F2-AC37-1199E0CBD31B</td>\n",
              "      <td>178</td>\n",
              "      <td>15630196</td>\n",
              "      <td>2133</td>\n",
              "      <td>2</td>\n",
              "      <td>2017-05-01 10:32:19.000000</td>\n",
              "      <td>NaN</td>\n",
              "      <td>40.992110</td>\n",
              "      <td>29.126783</td>\n",
              "      <td>5536</td>\n",
              "      <td>1467.799268</td>\n",
              "      <td>far</td>\n",
              "      <td>-85.0</td>\n",
              "    </tr>\n",
              "  </tbody>\n",
              "</table>\n",
              "</div>"
            ],
            "text/plain": [
              "                                            gtid  vendor_id  ...  proximity  rssi\n",
              "id                                                           ...                 \n",
              "2339839562  F9341167-6D6C-4321-924F-2E6B9D9CEF7A        135  ...    unknown   0.0\n",
              "2340151194  EB93B8DF-1F8D-4BD6-A4E5-67B9BACBF6CF        135  ...        far -86.0\n",
              "2340151210  5563AB7A-C5B0-492D-80E5-04E52A5C0C28        135  ...        far -86.0\n",
              "2340151187  55AFD11A-06A3-4E9D-8735-445F3DE654D7        178  ...        far -86.0\n",
              "2340185826  52DE3BD3-655B-40F2-AC37-1199E0CBD31B        178  ...        far -85.0\n",
              "\n",
              "[5 rows x 13 columns]"
            ]
          },
          "metadata": {
            "tags": []
          },
          "execution_count": 2
        }
      ]
    },
    {
      "cell_type": "code",
      "metadata": {
        "id": "TtuoMTL7CHEw",
        "colab_type": "code",
        "outputId": "84d2ec27-98d3-4b9e-f696-f95ab08b1848",
        "colab": {
          "base_uri": "https://localhost:8080/",
          "height": 85
        }
      },
      "source": [
        "# List number of features\n",
        "\n",
        "df.columns"
      ],
      "execution_count": 3,
      "outputs": [
        {
          "output_type": "execute_result",
          "data": {
            "text/plain": [
              "Index(['gtid', 'vendor_id', 'subscriber_id', 'merchant_id', 'signal_type',\n",
              "       'entry_date', 'exit_date', 'latitude', 'longitude', 'dongle_id',\n",
              "       'distance', 'proximity', 'rssi'],\n",
              "      dtype='object')"
            ]
          },
          "metadata": {
            "tags": []
          },
          "execution_count": 3
        }
      ]
    },
    {
      "cell_type": "code",
      "metadata": {
        "id": "KzoqnBfCAikL",
        "colab_type": "code",
        "outputId": "6b3787cd-c6f5-4e71-c892-6a4d96f99622",
        "colab": {
          "base_uri": "https://localhost:8080/",
          "height": 51
        }
      },
      "source": [
        "#Find unique values in indivual columns\n",
        "print(df['subscriber_id'].size)\n",
        "df['subscriber_id'].unique().size"
      ],
      "execution_count": 4,
      "outputs": [
        {
          "output_type": "stream",
          "text": [
            "125250\n"
          ],
          "name": "stdout"
        },
        {
          "output_type": "execute_result",
          "data": {
            "text/plain": [
              "4263"
            ]
          },
          "metadata": {
            "tags": []
          },
          "execution_count": 4
        }
      ]
    },
    {
      "cell_type": "code",
      "metadata": {
        "id": "WLZGfx3vZVv7",
        "colab_type": "code",
        "colab": {
          "base_uri": "https://localhost:8080/",
          "height": 255
        },
        "outputId": "0c6427e0-2e01-4db3-f0e8-8436f97ce5e8"
      },
      "source": [
        "# Identify missing values\n",
        "\n",
        "df.isnull().sum()"
      ],
      "execution_count": 5,
      "outputs": [
        {
          "output_type": "execute_result",
          "data": {
            "text/plain": [
              "gtid                  0\n",
              "vendor_id             0\n",
              "subscriber_id         0\n",
              "merchant_id           0\n",
              "signal_type           0\n",
              "entry_date            0\n",
              "exit_date        109285\n",
              "latitude            971\n",
              "longitude           971\n",
              "dongle_id             0\n",
              "distance          15965\n",
              "proximity         15965\n",
              "rssi              15965\n",
              "dtype: int64"
            ]
          },
          "metadata": {
            "tags": []
          },
          "execution_count": 5
        }
      ]
    },
    {
      "cell_type": "code",
      "metadata": {
        "id": "J6jRf3NgaBs5",
        "colab_type": "code",
        "colab": {
          "base_uri": "https://localhost:8080/",
          "height": 119
        },
        "outputId": "a20315f2-1335-47ef-c1a2-04d493a18e22"
      },
      "source": [
        "print('Percentage of missing values for \"exit_date\" \\n',  np.round((df['exit_date'].isnull().sum()/df['exit_date'].size)*100, decimals=2))\n",
        "print('Percentage of missing values for \"latitude\": \\n', np.round((df['latitude'].isnull().sum()/df['latitude'].size)*100, decimals=2))\n",
        "print('Percentage of missing values for \"distance\": \\n', np.round((df['distance'].isnull().sum()/df['distance'].size)*100, decimals=2))"
      ],
      "execution_count": 6,
      "outputs": [
        {
          "output_type": "stream",
          "text": [
            "Percentage of missing values for \"exit_date\" \n",
            " 87.25\n",
            "Percentage of missing values for \"latitude\": \n",
            " 0.78\n",
            "Percentage of missing values for \"distance\": \n",
            " 12.75\n"
          ],
          "name": "stdout"
        }
      ]
    },
    {
      "cell_type": "markdown",
      "metadata": {
        "id": "xd1B_CKaZfed",
        "colab_type": "text"
      },
      "source": [
        "# Conclusions\n",
        "* Distance, Proximity and RSSI are related.  Guessing if distance is missing the other two variables cannot be computed\n",
        "* Exit date has a very large percentange of data missing, the feature is pretty much useless\n",
        "* Distance is missing 13% of the data, might be worth replacing with a parameter instead of throwing away the data\n",
        "* Latitude and longitude are missing only 1% of the data, might be worth throwing them away\n"
      ]
    },
    {
      "cell_type": "code",
      "metadata": {
        "id": "icj4-KasW26w",
        "colab_type": "code",
        "colab": {
          "base_uri": "https://localhost:8080/",
          "height": 136
        },
        "outputId": "ab7c390d-31b6-4588-8565-006c2e9e9c08"
      },
      "source": [
        "# Mapping categorical data for PROXIMITY Column\n",
        "df2 = df.drop(columns=['subscriber_id', 'gtid', 'merchant_id','entry_date','exit_date','dongle_id'])\n",
        "\n",
        "\n",
        "print('Proximity unique categorical values: \\n', df2['proximity'].unique())\n",
        "print(df2['proximity'].size)\n",
        "print('Percentage of null values: \\n', np.round((df2['proximity'].isnull().sum()/df2['proximity'].size)*100, decimals=2))\n",
        "\n",
        "proximity_mapping = { 'unkown': 0,\n",
        "                      'far': 1,\n",
        "                     'near': 2,\n",
        "                     'immediate': 3}\n",
        "df2['proximity'] = df2['proximity'].map(proximity_mapping)\n",
        "print('Proximity unique categorical values converted: \\n',df2['proximity'].unique())\n"
      ],
      "execution_count": 7,
      "outputs": [
        {
          "output_type": "stream",
          "text": [
            "Proximity unique categorical values: \n",
            " ['unknown' 'far' nan 'near' 'immediate']\n",
            "125250\n",
            "Percentage of null values: \n",
            " 12.75\n",
            "Proximity unique categorical values converted: \n",
            " [nan  1.  2.  3.]\n"
          ],
          "name": "stdout"
        }
      ]
    },
    {
      "cell_type": "code",
      "metadata": {
        "id": "NLyLVi6P_a0a",
        "colab_type": "code",
        "colab": {
          "base_uri": "https://localhost:8080/",
          "height": 1000
        },
        "outputId": "54b929e8-faab-4c6d-817d-89fdfbb490c4"
      },
      "source": [
        "\n",
        "for col in df2.columns:\n",
        "    # and for each column we create space for one row with 2 charts \n",
        "    f, axes = plt.subplots(1, 2, figsize=(12, 3))\n",
        "    # our first chart is a histogram and we set the title \n",
        "    df2[col].hist(bins = 30, ax = axes[0])\n",
        "    axes[0].set_title('Distribution of '+ col)\n",
        "    # our second column is the boxplot \n",
        "    df2.boxplot(column = col, ax = axes[1])\n",
        "    # we then use this to command to display the charts\n",
        "    plt.show()"
      ],
      "execution_count": 8,
      "outputs": [
        {
          "output_type": "display_data",
          "data": {
            "image/png": "[encoded data removed]",
            "text/plain": [
              "<Figure size 864x216 with 2 Axes>"
            ]
          },
          "metadata": {
            "tags": []
          }
        },
        {
          "output_type": "display_data",
          "data": {
            "image/png": "[encoded data removed]",
            "text/plain": [
              "<Figure size 864x216 with 2 Axes>"
            ]
          },
          "metadata": {
            "tags": []
          }
        },
        {
          "output_type": "display_data",
          "data": {
            "image/png": "[encoded data removed]",
            "text/plain": [
              "<Figure size 864x216 with 2 Axes>"
            ]
          },
          "metadata": {
            "tags": []
          }
        },
        {
          "output_type": "display_data",
          "data": {
            "image/png": "[encoded data removed]",
            "text/plain": [
              "<Figure size 864x216 with 2 Axes>"
            ]
          },
          "metadata": {
            "tags": []
          }
        },
        {
          "output_type": "display_data",
          "data": {
            "image/png": "[encoded data removed]",
            "text/plain": [
              "<Figure size 864x216 with 2 Axes>"
            ]
          },
          "metadata": {
            "tags": []
          }
        },
        {
          "output_type": "display_data",
          "data": {
            "image/png": "[encoded data removed]",
            "text/plain": [
              "<Figure size 864x216 with 2 Axes>"
            ]
          },
          "metadata": {
            "tags": []
          }
        },
        {
          "output_type": "display_data",
          "data": {
            "image/png": "[encoded data removed]",
            "text/plain": [
              "<Figure size 864x216 with 2 Axes>"
            ]
          },
          "metadata": {
            "tags": []
          }
        }
      ]
    }
  ]
}